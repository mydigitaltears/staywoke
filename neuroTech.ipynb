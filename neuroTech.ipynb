{
 "cells": [
  {
   "cell_type": "markdown",
   "metadata": {},
   "source": [
    "How to calculate if we have all the tools available on the Muse Available Data page: http://developer.choosemuse.com/tools/available-data#MuseIO_Available_Data"
   ]
  },
  {
   "cell_type": "code",
   "execution_count": 8,
   "metadata": {},
   "outputs": [],
   "source": [
    "from scipy import signal\n",
    "import scipy as sp\n",
    "from scipy import fftpack\n",
    "import numpy as np\n",
    "import pandas as pd"
   ]
  },
  {
   "cell_type": "code",
   "execution_count": 9,
   "metadata": {},
   "outputs": [],
   "source": [
    "#extract relative band powers (a float between 0 and 1)\n",
    "theta_relative = '/muse/elements/theta_relative' #EDIT PATH TO MATCH YOUR OWN\n",
    "alpha_relative = '/muse/elements/alpha_relative' #EDIT PATH TO MATCH YOUR OWN"
   ]
  },
  {
   "cell_type": "code",
   "execution_count": null,
   "metadata": {},
   "outputs": [],
   "source": [
    "#filter relative band powers using 4th order type II Chebyshev filter\n",
    "#isolate slow waves\n",
    "\n",
    "#for theta\n",
    "rs_theta = '??' #minimum attenuation required in the stop band\n",
    "Wn_theta = '??' #critical frequency after which the wave is no longer considered a \"slow wave\"\n",
    "b_theta, a_theta = scipy.signal.cheby2(4, rs_theta, Wn_theta)\n",
    "\n",
    "w_theta, h_theta = scipy.signal.freqz(b_theta, a_theta) #extract frequency response\n",
    "\n",
    "#for alpha\n",
    "rs_alpha = '??' #minimum attenuation required in the stop band\n",
    "Wn_alpha = '??' #critical frequency after which the wave is no longer considered a \"slow wave\"\n",
    "b_alpha, a_alpha = scipy.signal.cheby2(4, rs_alpha, Wn_alpha)\n",
    "\n",
    "w_alpha, h_alpha = scipy.signal.freqz(b_alpha, a_theta) #extract frequency response\n",
    "\n",
    "\n",
    "#STUCK ON HOW TO USE FREQUENCY RESPONSE TO FILTER OUR THETA/ALPHA WAVES INTO SLOW WAVES:\n",
    "# 1) how to use the frequency response to filter the data?\n",
    "# 2) how the relative band powers play into these calculations?"
   ]
  },
  {
   "cell_type": "code",
   "execution_count": null,
   "metadata": {},
   "outputs": [],
   "source": [
    "#sleep-onset detection rules: need to estimate optimal V, lambda parameters"
   ]
  },
  {
   "cell_type": "markdown",
   "metadata": {},
   "source": [
    "How to calculate using RawEEG data (not from Muse):"
   ]
  },
  {
   "cell_type": "code",
   "execution_count": 2,
   "metadata": {},
   "outputs": [],
   "source": []
  },
  {
   "cell_type": "code",
   "execution_count": null,
   "metadata": {},
   "outputs": [],
   "source": [
    "# Artifact Removal - used only on preprocessing of raw sleep data \n",
    "#sp.signal.butter(..)"
   ]
  },
  {
   "cell_type": "code",
   "execution_count": null,
   "metadata": {},
   "outputs": [],
   "source": [
    "# Converts a signal from its original domain to a representation in the frequency domain - \n",
    "# used only on preprocessing of raw sleep data \n",
    "\n",
    "#fftpack.fft(..)"
   ]
  },
  {
   "cell_type": "code",
   "execution_count": null,
   "metadata": {},
   "outputs": [],
   "source": [
    "# Power Ratio Calculation"
   ]
  },
  {
   "cell_type": "code",
   "execution_count": null,
   "metadata": {},
   "outputs": [],
   "source": [
    "# Forth order type two Chebyshev filter\n",
    "# scipy.signal.cheb2(N=4, ...)"
   ]
  },
  {
   "cell_type": "code",
   "execution_count": null,
   "metadata": {},
   "outputs": [],
   "source": [
    "# Final Cut (final step)"
   ]
  },
  {
   "cell_type": "code",
   "execution_count": null,
   "metadata": {},
   "outputs": [],
   "source": []
  },
  {
   "cell_type": "code",
   "execution_count": 1,
   "metadata": {},
   "outputs": [
    {
     "ename": "SyntaxError",
     "evalue": "invalid syntax (<ipython-input-1-72d050b2b488>, line 4)",
     "output_type": "error",
     "traceback": [
      "\u001b[0;36m  File \u001b[0;32m\"<ipython-input-1-72d050b2b488>\"\u001b[0;36m, line \u001b[0;32m4\u001b[0m\n\u001b[0;31m    if x > 0: 1,\u001b[0m\n\u001b[0m     ^\u001b[0m\n\u001b[0;31mSyntaxError\u001b[0m\u001b[0;31m:\u001b[0m invalid syntax\n"
     ]
    }
   ],
   "source": [
    "### Estimating optimal parameters V, lambda\n",
    "def sign(x):\n",
    "    return {\n",
    "    if x > 0: 1,\n",
    "        \n",
    "    elif x == 0: 0,\n",
    "        \n",
    "    else -1 }[True]\n",
    "\n",
    "def H(x):\n",
    "    return 1 if x > 0 else 0\n",
    "\n",
    "def grid_search(S_theta, S_alpha, N_1, N_2):\n",
    "    err = float('inf')\n",
    "    # ...\n",
    "    return V, alpha"
   ]
  },
  {
   "cell_type": "code",
   "execution_count": null,
   "metadata": {},
   "outputs": [],
   "source": [
    "# Calculating emergy power ratio\n",
    "def totalPS(data): #input transformed data (needs to have an x axis of frequency)\n",
    "    Fmin = 0.3\n",
    "    Fmax = 64\n",
    "    return integrate.quad(data, Fmin, Fmax)\n",
    "\n",
    "def PR(flow, fhigh, data):\n",
    "    return (integrate.quad(data, flow, fhigh)) / totalPS(data)\n",
    "\n",
    "def alpha_theta_PRs(data):\n",
    "    PRalpha = PR(8, 12, data)\n",
    "    PRtheta = PR(4, 8 data)\n",
    "    return PRalpha, PRtheta"
   ]
  }
 ],
 "metadata": {
  "kernelspec": {
   "display_name": "Python 3",
   "language": "python",
   "name": "python3"
  },
  "language_info": {
   "codemirror_mode": {
    "name": "ipython",
    "version": 3
   },
   "file_extension": ".py",
   "mimetype": "text/x-python",
   "name": "python",
   "nbconvert_exporter": "python",
   "pygments_lexer": "ipython3",
   "version": "3.6.5"
  }
 },
 "nbformat": 4,
 "nbformat_minor": 2
}
