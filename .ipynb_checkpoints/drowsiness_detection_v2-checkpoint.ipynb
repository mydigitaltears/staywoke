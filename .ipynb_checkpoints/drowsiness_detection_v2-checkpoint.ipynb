{
 "cells": [
  {
   "cell_type": "code",
   "execution_count": 1,
   "metadata": {},
   "outputs": [],
   "source": [
    "from scipy import signal\n",
    "import scipy as sp\n",
    "from scipy import fftpack\n",
    "import numpy as np\n",
    "import pandas as pd"
   ]
  },
  {
   "cell_type": "code",
   "execution_count": null,
   "metadata": {},
   "outputs": [],
   "source": [
    "alpha = np.array()\n",
    "beta = np.array()\n",
    "delta = np.array()\n",
    "theta = np.array()"
   ]
  },
  {
   "cell_type": "code",
   "execution_count": 3,
   "metadata": {},
   "outputs": [],
   "source": [
    "def ARMS(alpha):\n",
    "    alpha1 = alpha/np.mean(alpha)\n",
    "    return np.sqrt(np.mean(alpha1**2))"
   ]
  },
  {
   "cell_type": "code",
   "execution_count": 4,
   "metadata": {},
   "outputs": [],
   "source": [
    "def BAI(alpha,beta,delta,theta):\n",
    "    return np.abs((np.diff(alpha)+np.diff(theta))*np.diff(delta)-np.diff(beta))"
   ]
  },
  {
   "cell_type": "code",
   "execution_count": 7,
   "metadata": {},
   "outputs": [],
   "source": [
    "def dARMS(alpha):\n",
    "    return np.sqrt(np.mean(np.diff(alpha)**2))"
   ]
  },
  {
   "cell_type": "code",
   "execution_count": 8,
   "metadata": {},
   "outputs": [],
   "source": [
    "ARMS_thresh = 1.2\n",
    "dA_thresh = 10\n",
    "BAI_thresh = 100000"
   ]
  },
  {
   "cell_type": "code",
   "execution_count": null,
   "metadata": {},
   "outputs": [],
   "source": [
    "ARMS_drowsy = ARMS(alpha) > ARMS_thresh\n",
    "dA_drowsy = dARMS(alpha) > dA_thresh\n",
    "BAI_drowsy = BAI(alpha,beta,delta,theta) > BAI_thresh\n",
    "return (BAI_drowsy & dA_drowsy) | (BAI_drowsy & ARMS_drowsy) | (dA_drowsy & ARMS_drowsy)"
   ]
  }
 ],
 "metadata": {
  "kernelspec": {
   "display_name": "Python 3",
   "language": "python",
   "name": "python3"
  },
  "language_info": {
   "codemirror_mode": {
    "name": "ipython",
    "version": 3
   },
   "file_extension": ".py",
   "mimetype": "text/x-python",
   "name": "python",
   "nbconvert_exporter": "python",
   "pygments_lexer": "ipython3",
   "version": "3.6.5"
  }
 },
 "nbformat": 4,
 "nbformat_minor": 2
}
